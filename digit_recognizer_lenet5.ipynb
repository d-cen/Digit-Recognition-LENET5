{
  "nbformat": 4,
  "nbformat_minor": 0,
  "metadata": {
    "colab": {
      "name": "digit_recognizer_lenet5.ipynb",
      "provenance": [],
      "toc_visible": true,
      "collapsed_sections": [],
      "machine_shape": "hm"
    },
    "kernelspec": {
      "name": "python3",
      "display_name": "Python 3"
    },
    "language_info": {
      "name": "python"
    },
    "accelerator": "GPU"
  },
  "cells": [
    {
      "cell_type": "markdown",
      "source": [
        "# Digit Recognizer with LeNet 5"
      ],
      "metadata": {
        "id": "HJtPRH2EoYGl"
      }
    },
    {
      "cell_type": "markdown",
      "source": [
        "## Data Preprocessing"
      ],
      "metadata": {
        "id": "OZtKXy5Zprea"
      }
    },
    {
      "cell_type": "markdown",
      "source": [
        "### 1. Import libraries"
      ],
      "metadata": {
        "id": "rbKbDycDOrNi"
      }
    },
    {
      "cell_type": "code",
      "source": [
        "import os\n",
        "import copy\n",
        "import random\n",
        "import numpy as np \n",
        "import pandas as pd\n",
        "import seaborn as sns\n",
        "import matplotlib.pyplot as plt\n",
        "import plotly.graph_objects as go\n",
        "\n",
        "import torch\n",
        "import torch.nn as nn\n",
        "import torch.optim as optim\n",
        "import torch.nn.functional as F\n",
        "import torchvision\n",
        "import torchvision.transforms as transforms\n",
        "from torch.utils.data import Dataset, DataLoader\n",
        "\n",
        "from plotly.subplots import make_subplots\n",
        "from sklearn.model_selection import train_test_split"
      ],
      "metadata": {
        "id": "YeVrf_8uOp-d"
      },
      "execution_count": 1,
      "outputs": []
    },
    {
      "cell_type": "markdown",
      "source": [
        "### 2. Loading dataset from directory"
      ],
      "metadata": {
        "id": "W7PwRo8y1bT8"
      }
    },
    {
      "cell_type": "code",
      "source": [
        "# Mount Google drive to Colab to serve as local directory\n",
        "from google.colab import drive\n",
        "drive.mount(\"/content/drive\")"
      ],
      "metadata": {
        "colab": {
          "base_uri": "https://localhost:8080/"
        },
        "id": "bo-PmqXwpvDN",
        "outputId": "9d2c0dbb-d3ef-4d07-bf6a-070cc605389d"
      },
      "execution_count": 2,
      "outputs": [
        {
          "output_type": "stream",
          "name": "stdout",
          "text": [
            "Mounted at /content/drive\n"
          ]
        }
      ]
    },
    {
      "cell_type": "code",
      "source": [
        "# Load the data\n",
        "dir_root = \"/content/drive/MyDrive/Kaggle/Digit_Recognizer/Data/digit-recognizer\"\n",
        "train_dir = os.path.join(dir_root, \"train.csv\")\n",
        "train = pd.read_csv(train_dir, dtype=np.float32)\n",
        "train.head()"
      ],
      "metadata": {
        "id": "_WDHLD-vqKwa",
        "colab": {
          "base_uri": "https://localhost:8080/",
          "height": 236
        },
        "outputId": "79d369f9-dd4d-467c-993d-48a4c0c02c23"
      },
      "execution_count": 3,
      "outputs": [
        {
          "output_type": "execute_result",
          "data": {
            "text/plain": [
              "   label  pixel0  pixel1  pixel2  pixel3  pixel4  pixel5  pixel6  pixel7  \\\n",
              "0    1.0     0.0     0.0     0.0     0.0     0.0     0.0     0.0     0.0   \n",
              "1    0.0     0.0     0.0     0.0     0.0     0.0     0.0     0.0     0.0   \n",
              "2    1.0     0.0     0.0     0.0     0.0     0.0     0.0     0.0     0.0   \n",
              "3    4.0     0.0     0.0     0.0     0.0     0.0     0.0     0.0     0.0   \n",
              "4    0.0     0.0     0.0     0.0     0.0     0.0     0.0     0.0     0.0   \n",
              "\n",
              "   pixel8  ...  pixel774  pixel775  pixel776  pixel777  pixel778  pixel779  \\\n",
              "0     0.0  ...       0.0       0.0       0.0       0.0       0.0       0.0   \n",
              "1     0.0  ...       0.0       0.0       0.0       0.0       0.0       0.0   \n",
              "2     0.0  ...       0.0       0.0       0.0       0.0       0.0       0.0   \n",
              "3     0.0  ...       0.0       0.0       0.0       0.0       0.0       0.0   \n",
              "4     0.0  ...       0.0       0.0       0.0       0.0       0.0       0.0   \n",
              "\n",
              "   pixel780  pixel781  pixel782  pixel783  \n",
              "0       0.0       0.0       0.0       0.0  \n",
              "1       0.0       0.0       0.0       0.0  \n",
              "2       0.0       0.0       0.0       0.0  \n",
              "3       0.0       0.0       0.0       0.0  \n",
              "4       0.0       0.0       0.0       0.0  \n",
              "\n",
              "[5 rows x 785 columns]"
            ],
            "text/html": [
              "\n",
              "  <div id=\"df-a7cb3382-b3a7-4f37-b8a2-60e4c8261219\">\n",
              "    <div class=\"colab-df-container\">\n",
              "      <div>\n",
              "<style scoped>\n",
              "    .dataframe tbody tr th:only-of-type {\n",
              "        vertical-align: middle;\n",
              "    }\n",
              "\n",
              "    .dataframe tbody tr th {\n",
              "        vertical-align: top;\n",
              "    }\n",
              "\n",
              "    .dataframe thead th {\n",
              "        text-align: right;\n",
              "    }\n",
              "</style>\n",
              "<table border=\"1\" class=\"dataframe\">\n",
              "  <thead>\n",
              "    <tr style=\"text-align: right;\">\n",
              "      <th></th>\n",
              "      <th>label</th>\n",
              "      <th>pixel0</th>\n",
              "      <th>pixel1</th>\n",
              "      <th>pixel2</th>\n",
              "      <th>pixel3</th>\n",
              "      <th>pixel4</th>\n",
              "      <th>pixel5</th>\n",
              "      <th>pixel6</th>\n",
              "      <th>pixel7</th>\n",
              "      <th>pixel8</th>\n",
              "      <th>...</th>\n",
              "      <th>pixel774</th>\n",
              "      <th>pixel775</th>\n",
              "      <th>pixel776</th>\n",
              "      <th>pixel777</th>\n",
              "      <th>pixel778</th>\n",
              "      <th>pixel779</th>\n",
              "      <th>pixel780</th>\n",
              "      <th>pixel781</th>\n",
              "      <th>pixel782</th>\n",
              "      <th>pixel783</th>\n",
              "    </tr>\n",
              "  </thead>\n",
              "  <tbody>\n",
              "    <tr>\n",
              "      <th>0</th>\n",
              "      <td>1.0</td>\n",
              "      <td>0.0</td>\n",
              "      <td>0.0</td>\n",
              "      <td>0.0</td>\n",
              "      <td>0.0</td>\n",
              "      <td>0.0</td>\n",
              "      <td>0.0</td>\n",
              "      <td>0.0</td>\n",
              "      <td>0.0</td>\n",
              "      <td>0.0</td>\n",
              "      <td>...</td>\n",
              "      <td>0.0</td>\n",
              "      <td>0.0</td>\n",
              "      <td>0.0</td>\n",
              "      <td>0.0</td>\n",
              "      <td>0.0</td>\n",
              "      <td>0.0</td>\n",
              "      <td>0.0</td>\n",
              "      <td>0.0</td>\n",
              "      <td>0.0</td>\n",
              "      <td>0.0</td>\n",
              "    </tr>\n",
              "    <tr>\n",
              "      <th>1</th>\n",
              "      <td>0.0</td>\n",
              "      <td>0.0</td>\n",
              "      <td>0.0</td>\n",
              "      <td>0.0</td>\n",
              "      <td>0.0</td>\n",
              "      <td>0.0</td>\n",
              "      <td>0.0</td>\n",
              "      <td>0.0</td>\n",
              "      <td>0.0</td>\n",
              "      <td>0.0</td>\n",
              "      <td>...</td>\n",
              "      <td>0.0</td>\n",
              "      <td>0.0</td>\n",
              "      <td>0.0</td>\n",
              "      <td>0.0</td>\n",
              "      <td>0.0</td>\n",
              "      <td>0.0</td>\n",
              "      <td>0.0</td>\n",
              "      <td>0.0</td>\n",
              "      <td>0.0</td>\n",
              "      <td>0.0</td>\n",
              "    </tr>\n",
              "    <tr>\n",
              "      <th>2</th>\n",
              "      <td>1.0</td>\n",
              "      <td>0.0</td>\n",
              "      <td>0.0</td>\n",
              "      <td>0.0</td>\n",
              "      <td>0.0</td>\n",
              "      <td>0.0</td>\n",
              "      <td>0.0</td>\n",
              "      <td>0.0</td>\n",
              "      <td>0.0</td>\n",
              "      <td>0.0</td>\n",
              "      <td>...</td>\n",
              "      <td>0.0</td>\n",
              "      <td>0.0</td>\n",
              "      <td>0.0</td>\n",
              "      <td>0.0</td>\n",
              "      <td>0.0</td>\n",
              "      <td>0.0</td>\n",
              "      <td>0.0</td>\n",
              "      <td>0.0</td>\n",
              "      <td>0.0</td>\n",
              "      <td>0.0</td>\n",
              "    </tr>\n",
              "    <tr>\n",
              "      <th>3</th>\n",
              "      <td>4.0</td>\n",
              "      <td>0.0</td>\n",
              "      <td>0.0</td>\n",
              "      <td>0.0</td>\n",
              "      <td>0.0</td>\n",
              "      <td>0.0</td>\n",
              "      <td>0.0</td>\n",
              "      <td>0.0</td>\n",
              "      <td>0.0</td>\n",
              "      <td>0.0</td>\n",
              "      <td>...</td>\n",
              "      <td>0.0</td>\n",
              "      <td>0.0</td>\n",
              "      <td>0.0</td>\n",
              "      <td>0.0</td>\n",
              "      <td>0.0</td>\n",
              "      <td>0.0</td>\n",
              "      <td>0.0</td>\n",
              "      <td>0.0</td>\n",
              "      <td>0.0</td>\n",
              "      <td>0.0</td>\n",
              "    </tr>\n",
              "    <tr>\n",
              "      <th>4</th>\n",
              "      <td>0.0</td>\n",
              "      <td>0.0</td>\n",
              "      <td>0.0</td>\n",
              "      <td>0.0</td>\n",
              "      <td>0.0</td>\n",
              "      <td>0.0</td>\n",
              "      <td>0.0</td>\n",
              "      <td>0.0</td>\n",
              "      <td>0.0</td>\n",
              "      <td>0.0</td>\n",
              "      <td>...</td>\n",
              "      <td>0.0</td>\n",
              "      <td>0.0</td>\n",
              "      <td>0.0</td>\n",
              "      <td>0.0</td>\n",
              "      <td>0.0</td>\n",
              "      <td>0.0</td>\n",
              "      <td>0.0</td>\n",
              "      <td>0.0</td>\n",
              "      <td>0.0</td>\n",
              "      <td>0.0</td>\n",
              "    </tr>\n",
              "  </tbody>\n",
              "</table>\n",
              "<p>5 rows × 785 columns</p>\n",
              "</div>\n",
              "      <button class=\"colab-df-convert\" onclick=\"convertToInteractive('df-a7cb3382-b3a7-4f37-b8a2-60e4c8261219')\"\n",
              "              title=\"Convert this dataframe to an interactive table.\"\n",
              "              style=\"display:none;\">\n",
              "        \n",
              "  <svg xmlns=\"http://www.w3.org/2000/svg\" height=\"24px\"viewBox=\"0 0 24 24\"\n",
              "       width=\"24px\">\n",
              "    <path d=\"M0 0h24v24H0V0z\" fill=\"none\"/>\n",
              "    <path d=\"M18.56 5.44l.94 2.06.94-2.06 2.06-.94-2.06-.94-.94-2.06-.94 2.06-2.06.94zm-11 1L8.5 8.5l.94-2.06 2.06-.94-2.06-.94L8.5 2.5l-.94 2.06-2.06.94zm10 10l.94 2.06.94-2.06 2.06-.94-2.06-.94-.94-2.06-.94 2.06-2.06.94z\"/><path d=\"M17.41 7.96l-1.37-1.37c-.4-.4-.92-.59-1.43-.59-.52 0-1.04.2-1.43.59L10.3 9.45l-7.72 7.72c-.78.78-.78 2.05 0 2.83L4 21.41c.39.39.9.59 1.41.59.51 0 1.02-.2 1.41-.59l7.78-7.78 2.81-2.81c.8-.78.8-2.07 0-2.86zM5.41 20L4 18.59l7.72-7.72 1.47 1.35L5.41 20z\"/>\n",
              "  </svg>\n",
              "      </button>\n",
              "      \n",
              "  <style>\n",
              "    .colab-df-container {\n",
              "      display:flex;\n",
              "      flex-wrap:wrap;\n",
              "      gap: 12px;\n",
              "    }\n",
              "\n",
              "    .colab-df-convert {\n",
              "      background-color: #E8F0FE;\n",
              "      border: none;\n",
              "      border-radius: 50%;\n",
              "      cursor: pointer;\n",
              "      display: none;\n",
              "      fill: #1967D2;\n",
              "      height: 32px;\n",
              "      padding: 0 0 0 0;\n",
              "      width: 32px;\n",
              "    }\n",
              "\n",
              "    .colab-df-convert:hover {\n",
              "      background-color: #E2EBFA;\n",
              "      box-shadow: 0px 1px 2px rgba(60, 64, 67, 0.3), 0px 1px 3px 1px rgba(60, 64, 67, 0.15);\n",
              "      fill: #174EA6;\n",
              "    }\n",
              "\n",
              "    [theme=dark] .colab-df-convert {\n",
              "      background-color: #3B4455;\n",
              "      fill: #D2E3FC;\n",
              "    }\n",
              "\n",
              "    [theme=dark] .colab-df-convert:hover {\n",
              "      background-color: #434B5C;\n",
              "      box-shadow: 0px 1px 3px 1px rgba(0, 0, 0, 0.15);\n",
              "      filter: drop-shadow(0px 1px 2px rgba(0, 0, 0, 0.3));\n",
              "      fill: #FFFFFF;\n",
              "    }\n",
              "  </style>\n",
              "\n",
              "      <script>\n",
              "        const buttonEl =\n",
              "          document.querySelector('#df-a7cb3382-b3a7-4f37-b8a2-60e4c8261219 button.colab-df-convert');\n",
              "        buttonEl.style.display =\n",
              "          google.colab.kernel.accessAllowed ? 'block' : 'none';\n",
              "\n",
              "        async function convertToInteractive(key) {\n",
              "          const element = document.querySelector('#df-a7cb3382-b3a7-4f37-b8a2-60e4c8261219');\n",
              "          const dataTable =\n",
              "            await google.colab.kernel.invokeFunction('convertToInteractive',\n",
              "                                                     [key], {});\n",
              "          if (!dataTable) return;\n",
              "\n",
              "          const docLinkHtml = 'Like what you see? Visit the ' +\n",
              "            '<a target=\"_blank\" href=https://colab.research.google.com/notebooks/data_table.ipynb>data table notebook</a>'\n",
              "            + ' to learn more about interactive tables.';\n",
              "          element.innerHTML = '';\n",
              "          dataTable['output_type'] = 'display_data';\n",
              "          await google.colab.output.renderOutput(dataTable, element);\n",
              "          const docLink = document.createElement('div');\n",
              "          docLink.innerHTML = docLinkHtml;\n",
              "          element.appendChild(docLink);\n",
              "        }\n",
              "      </script>\n",
              "    </div>\n",
              "  </div>\n",
              "  "
            ]
          },
          "metadata": {},
          "execution_count": 3
        }
      ]
    },
    {
      "cell_type": "code",
      "source": [
        "# Split features and labels\n",
        "X_train = train.loc[:, train.columns != \"label\"]\n",
        "Y_train = train.label"
      ],
      "metadata": {
        "id": "tWd035ZyPXvZ"
      },
      "execution_count": 4,
      "outputs": []
    },
    {
      "cell_type": "markdown",
      "source": [
        "### 3. Check for data inbalance or missing value"
      ],
      "metadata": {
        "id": "eNrNeKq5PrIb"
      }
    },
    {
      "cell_type": "code",
      "source": [
        "# Check if contain null features\n",
        "X_train.isnull().any().describe()"
      ],
      "metadata": {
        "colab": {
          "base_uri": "https://localhost:8080/"
        },
        "id": "OouWHuxCP5Cy",
        "outputId": "5617731c-0c98-47a7-88d7-3773cb4304fd"
      },
      "execution_count": 5,
      "outputs": [
        {
          "output_type": "execute_result",
          "data": {
            "text/plain": [
              "count       784\n",
              "unique        1\n",
              "top       False\n",
              "freq        784\n",
              "dtype: object"
            ]
          },
          "metadata": {},
          "execution_count": 5
        }
      ]
    },
    {
      "cell_type": "code",
      "source": [
        "# Check for counts\n",
        "label_count = Y_train.value_counts()\n",
        "print(label_count)\n",
        "g = sns.countplot(x=Y_train)\n",
        "g = g.set(xlabel=\"Label\", ylabel=\"Count\", title=\"Label Count\")"
      ],
      "metadata": {
        "colab": {
          "base_uri": "https://localhost:8080/",
          "height": 485
        },
        "id": "LnSmSjN1SgFL",
        "outputId": "0a5e95a4-21e7-4af0-e1e6-d6e955588b08"
      },
      "execution_count": 6,
      "outputs": [
        {
          "output_type": "stream",
          "name": "stdout",
          "text": [
            "1.0    4684\n",
            "7.0    4401\n",
            "3.0    4351\n",
            "9.0    4188\n",
            "2.0    4177\n",
            "6.0    4137\n",
            "0.0    4132\n",
            "4.0    4072\n",
            "8.0    4063\n",
            "5.0    3795\n",
            "Name: label, dtype: int64\n"
          ]
        },
        {
          "output_type": "display_data",
          "data": {
            "text/plain": [
              "<Figure size 432x288 with 1 Axes>"
            ],
            "image/png": "[encoded data removed]"
          },
          "metadata": {
            "needs_background": "light"
          }
        }
      ]
    },
    {
      "cell_type": "markdown",
      "source": [
        "### 4. Normalization and transformation"
      ],
      "metadata": {
        "id": "nqnS993XLMCX"
      }
    },
    {
      "cell_type": "code",
      "source": [
        "'''\n",
        "Perform grayscale normalization to \n",
        "1. Reduce illumination differences\n",
        "2. Increase CNN covergence rate\n",
        "'''\n",
        "X_train = X_train / 255.0"
      ],
      "metadata": {
        "id": "T-6a45tkQvqY"
      },
      "execution_count": 7,
      "outputs": []
    },
    {
      "cell_type": "code",
      "source": [
        "# Split the training and test set\n",
        "X_train, X_test, Y_train, Y_test = train_test_split(\n",
        "    X_train.values, \n",
        "    Y_train.values, \n",
        "    test_size=0.1, \n",
        "    random_state=42\n",
        "    )\n",
        "\n",
        "# Reshape input image\n",
        "X_train = X_train.reshape((-1, 1, 28, 28))\n",
        "X_train = np.squeeze(X_train, axis=1)\n",
        "X_test = X_test.reshape((-1, 1, 28, 28))\n",
        "X_test = np.squeeze(X_test, axis=1)\n",
        "\n",
        "# Transform from numpy arrays to tensors\n",
        "Y_train = torch.from_numpy(Y_train).type(torch.FloatTensor)\n",
        "Y_test = torch.from_numpy(Y_test).type(torch.FloatTensor)"
      ],
      "metadata": {
        "id": "gw_Tj5EbRW_k"
      },
      "execution_count": 8,
      "outputs": []
    },
    {
      "cell_type": "code",
      "source": [
        "# Example\n",
        "g = plt.imshow(X_train[0][:,:], cmap=\"binary\")"
      ],
      "metadata": {
        "colab": {
          "base_uri": "https://localhost:8080/",
          "height": 265
        },
        "id": "XPRvYuhlXvr3",
        "outputId": "dfd39468-1376-444f-87f1-2bbfe657ec20"
      },
      "execution_count": 9,
      "outputs": [
        {
          "output_type": "display_data",
          "data": {
            "text/plain": [
              "<Figure size 432x288 with 1 Axes>"
            ],
            "image/png": "[encoded data removed]"
          },
          "metadata": {
            "needs_background": "light"
          }
        }
      ]
    },
    {
      "cell_type": "code",
      "source": [
        "# Define MNIST data class\n",
        "transform_train = transforms.Compose([transforms.ToTensor()])\n",
        "class MNIST(Dataset):\n",
        "    def __init__(self, X, Y, Transform):\n",
        "        self.X = X\n",
        "        self.transform = Transform\n",
        "        self.Y = Y\n",
        "        \n",
        "    def __len__(self):\n",
        "        return len(self.X)\n",
        "\n",
        "    def __getitem__(self, index):\n",
        "        return self.transform(self.X[index]), self.Y[index]\n",
        "\n",
        "batch_size_train, batch_size_test = 64, 1000\n",
        "train_set = MNIST(X_train, Y_train, transform_train)\n",
        "train_loader = DataLoader(train_set, batch_size=batch_size_train, shuffle=True)\n",
        "\n",
        "test_set = MNIST(X_test, Y_test, transform_train)\n",
        "test_loader = DataLoader(test_set, batch_size=batch_size_test, shuffle=False)"
      ],
      "metadata": {
        "id": "P8drJS9eZi_S"
      },
      "execution_count": 10,
      "outputs": []
    },
    {
      "cell_type": "markdown",
      "source": [
        "## Convolutional Neural Network"
      ],
      "metadata": {
        "id": "NS12pIuU0gIY"
      }
    },
    {
      "cell_type": "markdown",
      "source": [
        "### 1. Create CNN Model"
      ],
      "metadata": {
        "id": "lH2lgR7V0kU1"
      }
    },
    {
      "cell_type": "code",
      "source": [
        "# Decide which device we want to run on\n",
        "device = torch.device(\"cuda\" if (torch.cuda.is_available()) else \"cpu\")\n",
        "print(device)"
      ],
      "metadata": {
        "id": "2EkUe-a61muz",
        "colab": {
          "base_uri": "https://localhost:8080/"
        },
        "outputId": "b0bab2b7-38a9-4c9e-f44d-423aceed6748"
      },
      "execution_count": 11,
      "outputs": [
        {
          "output_type": "stream",
          "name": "stdout",
          "text": [
            "cuda\n"
          ]
        }
      ]
    },
    {
      "cell_type": "code",
      "source": [
        "latent_feature = 10\n",
        "\n",
        "class LeNet5(nn.Module):\n",
        "    '''\n",
        "    This implementation follow LeNet5's design from \"Gradient-based learning\n",
        "    applied to document recognition\" by Y.Lecun with several modifications.\n",
        "    \n",
        "    - Two 3x3 filters replaced single 5x5 filter in conv2d layer 3\n",
        "    - Batch normalization added\n",
        "    - ReLU activation function replaced tanh\n",
        "    - More channels added\n",
        "    - Dropout added\n",
        "    '''\n",
        "    def __init__(self):\n",
        "        super(LeNet5, self).__init__()\n",
        "        \n",
        "        self.conv = nn.Sequential(\n",
        "            nn.Conv2d(in_channels=1, out_channels=32, kernel_size=5, padding=\"same\"),\n",
        "            nn.ReLU(),\n",
        "            nn.Conv2d(in_channels=32, out_channels=32, kernel_size=5, padding=\"same\"),\n",
        "            nn.ReLU(),\n",
        "            nn.MaxPool2d(kernel_size=2),\n",
        "            nn.BatchNorm2d(num_features=32),\n",
        "            nn.Dropout2d(p=0.25),\n",
        "            \n",
        "            nn.Conv2d(in_channels=32, out_channels=64, kernel_size=3, padding=\"same\"),\n",
        "            nn.ReLU(),\n",
        "            nn.Conv2d(in_channels=64, out_channels=64, kernel_size=3, padding='same'),\n",
        "            nn.ReLU(),\n",
        "            nn.MaxPool2d(kernel_size=2, stride=2),\n",
        "            nn.BatchNorm2d(num_features=64),\n",
        "            nn.Dropout2d(p=0.25),\n",
        "        )\n",
        "        \n",
        "        self.fc = nn.Sequential(\n",
        "            nn.Linear(in_features=3136, out_features=256),\n",
        "            nn.ReLU(),\n",
        "            nn.Dropout(p=0.5),\n",
        "            nn.BatchNorm1d(num_features=256),\n",
        "            nn.Linear(in_features=256, out_features=latent_feature)\n",
        "        )\n",
        "        \n",
        "    def forward(self, x):\n",
        "        \n",
        "        x = self.conv(x)\n",
        "        x = x.view(x.shape[0], -1)\n",
        "        x = self.fc(x)\n",
        "        x = F.log_softmax(x, dim=1)\n",
        "\n",
        "        return x"
      ],
      "metadata": {
        "id": "Y-qTEHgRz4g9"
      },
      "execution_count": 12,
      "outputs": []
    },
    {
      "cell_type": "markdown",
      "source": [
        "### 2. Instantiate model, loss function, and optimizer"
      ],
      "metadata": {
        "id": "FBZTpbZLftA4"
      }
    },
    {
      "cell_type": "code",
      "source": [
        "# Instantiate model and move to GPU if available\n",
        "model = LeNet5()\n",
        "LeNet5_classifier = model.to(device)\n",
        "\n",
        "# Instantiate loss function\n",
        "loss_fn = nn.NLLLoss()\n",
        "\n",
        "# Instantiate optimizer\n",
        "learning_rate = 0.001\n",
        "optimizer = optim.Adam(LeNet5_classifier.parameters(), lr=learning_rate)\n",
        "\n",
        "# Instantiate number of epoch, losses, score\n",
        "max_epoch = 30\n",
        "train_losses, test_losses = [], []\n",
        "acc_list = []\n",
        "best_score = 0\n",
        "best_model = None"
      ],
      "metadata": {
        "id": "PTqoB-1RfEEj"
      },
      "execution_count": 13,
      "outputs": []
    },
    {
      "cell_type": "markdown",
      "source": [
        "### 3. Train and test the model"
      ],
      "metadata": {
        "id": "7AKTJ0Xnf87X"
      }
    },
    {
      "cell_type": "code",
      "source": [
        "def train(classifier, epoch):\n",
        "\n",
        "    classifier.train()\n",
        "\n",
        "    for idx, (images, labels) in enumerate(train_loader):\n",
        "        \n",
        "        images = images.to(device, dtype=torch.float)\n",
        "        labels = labels.type(torch.LongTensor)\n",
        "        labels = labels.to(device)\n",
        "\n",
        "        optimizer.zero_grad()\n",
        "        output = classifier(images)\n",
        "        loss = loss_fn(output, labels)\n",
        "        loss.backward()\n",
        "        optimizer.step()\n",
        "\n",
        "        if idx % 10 == 0: # Record output every 10 batches\n",
        "            train_losses.append(loss.item())\n",
        "        if idx % 100 == 0: # Visualize output every 100 batches\n",
        "            print(f\"Epoch {epoch}: [{idx*len(images)}/{len(train_loader.dataset)}] Loss: {loss.item():.6f}\")"
      ],
      "metadata": {
        "id": "tz9KwFb6ljRI"
      },
      "execution_count": 14,
      "outputs": []
    },
    {
      "cell_type": "code",
      "source": [
        "def test(classifier, epoch, best_score):\n",
        "    \n",
        "    classifier.eval()\n",
        "    test_loss = 0\n",
        "    correct = 0\n",
        "    \n",
        "    with torch.no_grad():\n",
        "        for idx, (images, labels) in enumerate(test_loader):\n",
        "            \n",
        "            images = images.to(device, dtype=torch.float)\n",
        "            labels = labels.type(torch.LongTensor)\n",
        "            labels = labels.to(device)\n",
        "\n",
        "            output = classifier(images)\n",
        "            test_loss += loss_fn(output, labels).item()\n",
        "            pred = output.data.max(1, keepdim=True)[1] # Get estimate of result by looking at largest class value\n",
        "            correct += pred.eq(labels.data.view_as(pred)).sum()\n",
        "    \n",
        "    test_loss /= len(test_loader.dataset)\n",
        "    test_losses.append(test_loss)\n",
        "    acc_val = correct/len(test_loader.dataset)\n",
        "    acc_val = acc_val.cpu()\n",
        "    acc_list.append(acc_val)\n",
        "    print(f\"Test result on epoch {epoch}: Avg loss is {test_loss:.6f}, Accuracy: {100.*acc_val:.6f}%\", end=\" \")\n",
        "    if best_score <= acc_val:\n",
        "        best_score = acc_val\n",
        "        best_model = copy.deepcopy(classifier)\n",
        "        print(\"(New Best Score)\")\n",
        "    else:\n",
        "        print()\n",
        "    return best_score"
      ],
      "metadata": {
        "id": "hnEbQWnFgjGj"
      },
      "execution_count": 15,
      "outputs": []
    },
    {
      "cell_type": "code",
      "source": [
        "for epoch in range(1, max_epoch+1):\n",
        "    train(LeNet5_classifier, epoch)\n",
        "    best_score = test(LeNet5_classifier, epoch, best_score)"
      ],
      "metadata": {
        "colab": {
          "base_uri": "https://localhost:8080/"
        },
        "id": "TQsPY4bNfO48",
        "outputId": "a7136222-67a7-44b5-b578-1f468e8b58f9"
      },
      "execution_count": 16,
      "outputs": [
        {
          "output_type": "stream",
          "name": "stdout",
          "text": [
            "Epoch 1: [0/37800] Loss: 2.471352\n",
            "Epoch 1: [6400/37800] Loss: 0.172676\n",
            "Epoch 1: [12800/37800] Loss: 0.108736\n",
            "Epoch 1: [19200/37800] Loss: 0.212184\n",
            "Epoch 1: [25600/37800] Loss: 0.073103\n",
            "Epoch 1: [32000/37800] Loss: 0.087433\n",
            "Test result on epoch 1: Avg loss is 0.000058, Accuracy: 98.619041% (New Best Score)\n",
            "Epoch 2: [0/37800] Loss: 0.031387\n",
            "Epoch 2: [6400/37800] Loss: 0.081721\n",
            "Epoch 2: [12800/37800] Loss: 0.040203\n",
            "Epoch 2: [19200/37800] Loss: 0.019005\n",
            "Epoch 2: [25600/37800] Loss: 0.011277\n",
            "Epoch 2: [32000/37800] Loss: 0.067327\n",
            "Test result on epoch 2: Avg loss is 0.000050, Accuracy: 98.761902% (New Best Score)\n",
            "Epoch 3: [0/37800] Loss: 0.097938\n",
            "Epoch 3: [6400/37800] Loss: 0.019670\n",
            "Epoch 3: [12800/37800] Loss: 0.038699\n",
            "Epoch 3: [19200/37800] Loss: 0.049176\n",
            "Epoch 3: [25600/37800] Loss: 0.068788\n",
            "Epoch 3: [32000/37800] Loss: 0.044023\n",
            "Test result on epoch 3: Avg loss is 0.000036, Accuracy: 99.000000% (New Best Score)\n",
            "Epoch 4: [0/37800] Loss: 0.099521\n",
            "Epoch 4: [6400/37800] Loss: 0.029352\n",
            "Epoch 4: [12800/37800] Loss: 0.035843\n",
            "Epoch 4: [19200/37800] Loss: 0.048800\n",
            "Epoch 4: [25600/37800] Loss: 0.015456\n",
            "Epoch 4: [32000/37800] Loss: 0.009339\n",
            "Test result on epoch 4: Avg loss is 0.000044, Accuracy: 99.023804% (New Best Score)\n",
            "Epoch 5: [0/37800] Loss: 0.009183\n",
            "Epoch 5: [6400/37800] Loss: 0.098415\n",
            "Epoch 5: [12800/37800] Loss: 0.006574\n",
            "Epoch 5: [19200/37800] Loss: 0.024368\n",
            "Epoch 5: [25600/37800] Loss: 0.205571\n",
            "Epoch 5: [32000/37800] Loss: 0.014953\n",
            "Test result on epoch 5: Avg loss is 0.000036, Accuracy: 99.119049% (New Best Score)\n",
            "Epoch 6: [0/37800] Loss: 0.094437\n",
            "Epoch 6: [6400/37800] Loss: 0.012690\n",
            "Epoch 6: [12800/37800] Loss: 0.012080\n",
            "Epoch 6: [19200/37800] Loss: 0.046026\n",
            "Epoch 6: [25600/37800] Loss: 0.013153\n",
            "Epoch 6: [32000/37800] Loss: 0.021577\n",
            "Test result on epoch 6: Avg loss is 0.000033, Accuracy: 99.142853% (New Best Score)\n",
            "Epoch 7: [0/37800] Loss: 0.027722\n",
            "Epoch 7: [6400/37800] Loss: 0.034090\n",
            "Epoch 7: [12800/37800] Loss: 0.038970\n",
            "Epoch 7: [19200/37800] Loss: 0.049384\n",
            "Epoch 7: [25600/37800] Loss: 0.064709\n",
            "Epoch 7: [32000/37800] Loss: 0.015818\n",
            "Test result on epoch 7: Avg loss is 0.000053, Accuracy: 98.857140% \n",
            "Epoch 8: [0/37800] Loss: 0.053050\n",
            "Epoch 8: [6400/37800] Loss: 0.126283\n",
            "Epoch 8: [12800/37800] Loss: 0.066385\n",
            "Epoch 8: [19200/37800] Loss: 0.001684\n",
            "Epoch 8: [25600/37800] Loss: 0.040767\n",
            "Epoch 8: [32000/37800] Loss: 0.076754\n",
            "Test result on epoch 8: Avg loss is 0.000039, Accuracy: 99.261902% (New Best Score)\n",
            "Epoch 9: [0/37800] Loss: 0.006357\n",
            "Epoch 9: [6400/37800] Loss: 0.004709\n",
            "Epoch 9: [12800/37800] Loss: 0.048582\n",
            "Epoch 9: [19200/37800] Loss: 0.130254\n",
            "Epoch 9: [25600/37800] Loss: 0.048408\n",
            "Epoch 9: [32000/37800] Loss: 0.070056\n",
            "Test result on epoch 9: Avg loss is 0.000028, Accuracy: 99.238091% \n",
            "Epoch 10: [0/37800] Loss: 0.009343\n",
            "Epoch 10: [6400/37800] Loss: 0.014342\n",
            "Epoch 10: [12800/37800] Loss: 0.004492\n",
            "Epoch 10: [19200/37800] Loss: 0.003921\n",
            "Epoch 10: [25600/37800] Loss: 0.000972\n",
            "Epoch 10: [32000/37800] Loss: 0.000513\n",
            "Test result on epoch 10: Avg loss is 0.000034, Accuracy: 99.404755% (New Best Score)\n",
            "Epoch 11: [0/37800] Loss: 0.084453\n",
            "Epoch 11: [6400/37800] Loss: 0.021250\n",
            "Epoch 11: [12800/37800] Loss: 0.005136\n",
            "Epoch 11: [19200/37800] Loss: 0.030067\n",
            "Epoch 11: [25600/37800] Loss: 0.005249\n",
            "Epoch 11: [32000/37800] Loss: 0.023974\n",
            "Test result on epoch 11: Avg loss is 0.000031, Accuracy: 99.380951% \n",
            "Epoch 12: [0/37800] Loss: 0.002130\n",
            "Epoch 12: [6400/37800] Loss: 0.155068\n",
            "Epoch 12: [12800/37800] Loss: 0.174393\n",
            "Epoch 12: [19200/37800] Loss: 0.002835\n",
            "Epoch 12: [25600/37800] Loss: 0.031577\n",
            "Epoch 12: [32000/37800] Loss: 0.009085\n",
            "Test result on epoch 12: Avg loss is 0.000036, Accuracy: 99.333336% \n",
            "Epoch 13: [0/37800] Loss: 0.016486\n",
            "Epoch 13: [6400/37800] Loss: 0.009763\n",
            "Epoch 13: [12800/37800] Loss: 0.032772\n",
            "Epoch 13: [19200/37800] Loss: 0.001094\n",
            "Epoch 13: [25600/37800] Loss: 0.002473\n",
            "Epoch 13: [32000/37800] Loss: 0.002353\n",
            "Test result on epoch 13: Avg loss is 0.000037, Accuracy: 99.380951% \n",
            "Epoch 14: [0/37800] Loss: 0.198556\n",
            "Epoch 14: [6400/37800] Loss: 0.005170\n",
            "Epoch 14: [12800/37800] Loss: 0.015400\n",
            "Epoch 14: [19200/37800] Loss: 0.018623\n",
            "Epoch 14: [25600/37800] Loss: 0.002639\n",
            "Epoch 14: [32000/37800] Loss: 0.021793\n",
            "Test result on epoch 14: Avg loss is 0.000028, Accuracy: 99.476189% (New Best Score)\n",
            "Epoch 15: [0/37800] Loss: 0.000826\n",
            "Epoch 15: [6400/37800] Loss: 0.208121\n",
            "Epoch 15: [12800/37800] Loss: 0.002515\n",
            "Epoch 15: [19200/37800] Loss: 0.010082\n",
            "Epoch 15: [25600/37800] Loss: 0.019215\n",
            "Epoch 15: [32000/37800] Loss: 0.001163\n",
            "Test result on epoch 15: Avg loss is 0.000035, Accuracy: 99.333336% \n",
            "Epoch 16: [0/37800] Loss: 0.001565\n",
            "Epoch 16: [6400/37800] Loss: 0.005854\n",
            "Epoch 16: [12800/37800] Loss: 0.001806\n",
            "Epoch 16: [19200/37800] Loss: 0.004163\n",
            "Epoch 16: [25600/37800] Loss: 0.013904\n",
            "Epoch 16: [32000/37800] Loss: 0.022543\n",
            "Test result on epoch 16: Avg loss is 0.000028, Accuracy: 99.428574% \n",
            "Epoch 17: [0/37800] Loss: 0.002624\n",
            "Epoch 17: [6400/37800] Loss: 0.004504\n",
            "Epoch 17: [12800/37800] Loss: 0.002677\n",
            "Epoch 17: [19200/37800] Loss: 0.037144\n",
            "Epoch 17: [25600/37800] Loss: 0.003780\n",
            "Epoch 17: [32000/37800] Loss: 0.013021\n",
            "Test result on epoch 17: Avg loss is 0.000028, Accuracy: 99.380951% \n",
            "Epoch 18: [0/37800] Loss: 0.107352\n",
            "Epoch 18: [6400/37800] Loss: 0.003828\n",
            "Epoch 18: [12800/37800] Loss: 0.002937\n",
            "Epoch 18: [19200/37800] Loss: 0.001045\n",
            "Epoch 18: [25600/37800] Loss: 0.000383\n",
            "Epoch 18: [32000/37800] Loss: 0.009288\n",
            "Test result on epoch 18: Avg loss is 0.000038, Accuracy: 99.357140% \n",
            "Epoch 19: [0/37800] Loss: 0.000634\n",
            "Epoch 19: [6400/37800] Loss: 0.002464\n",
            "Epoch 19: [12800/37800] Loss: 0.000677\n",
            "Epoch 19: [19200/37800] Loss: 0.070529\n",
            "Epoch 19: [25600/37800] Loss: 0.000212\n",
            "Epoch 19: [32000/37800] Loss: 0.000468\n",
            "Test result on epoch 19: Avg loss is 0.000033, Accuracy: 99.500000% (New Best Score)\n",
            "Epoch 20: [0/37800] Loss: 0.000541\n",
            "Epoch 20: [6400/37800] Loss: 0.002166\n",
            "Epoch 20: [12800/37800] Loss: 0.245535\n",
            "Epoch 20: [19200/37800] Loss: 0.000614\n",
            "Epoch 20: [25600/37800] Loss: 0.000402\n",
            "Epoch 20: [32000/37800] Loss: 0.003532\n",
            "Test result on epoch 20: Avg loss is 0.000036, Accuracy: 99.285713% \n",
            "Epoch 21: [0/37800] Loss: 0.000829\n",
            "Epoch 21: [6400/37800] Loss: 0.005467\n",
            "Epoch 21: [12800/37800] Loss: 0.000371\n",
            "Epoch 21: [19200/37800] Loss: 0.000354\n",
            "Epoch 21: [25600/37800] Loss: 0.095882\n",
            "Epoch 21: [32000/37800] Loss: 0.000804\n",
            "Test result on epoch 21: Avg loss is 0.000037, Accuracy: 99.357140% \n",
            "Epoch 22: [0/37800] Loss: 0.003548\n",
            "Epoch 22: [6400/37800] Loss: 0.001070\n",
            "Epoch 22: [12800/37800] Loss: 0.004326\n",
            "Epoch 22: [19200/37800] Loss: 0.010028\n",
            "Epoch 22: [25600/37800] Loss: 0.000701\n",
            "Epoch 22: [32000/37800] Loss: 0.042213\n",
            "Test result on epoch 22: Avg loss is 0.000034, Accuracy: 99.285713% \n",
            "Epoch 23: [0/37800] Loss: 0.055296\n",
            "Epoch 23: [6400/37800] Loss: 0.004204\n",
            "Epoch 23: [12800/37800] Loss: 0.000368\n",
            "Epoch 23: [19200/37800] Loss: 0.021571\n",
            "Epoch 23: [25600/37800] Loss: 0.000516\n",
            "Epoch 23: [32000/37800] Loss: 0.000883\n",
            "Test result on epoch 23: Avg loss is 0.000042, Accuracy: 99.214287% \n",
            "Epoch 24: [0/37800] Loss: 0.001373\n",
            "Epoch 24: [6400/37800] Loss: 0.002269\n",
            "Epoch 24: [12800/37800] Loss: 0.002139\n",
            "Epoch 24: [19200/37800] Loss: 0.000115\n",
            "Epoch 24: [25600/37800] Loss: 0.000389\n",
            "Epoch 24: [32000/37800] Loss: 0.000408\n",
            "Test result on epoch 24: Avg loss is 0.000036, Accuracy: 99.357140% \n",
            "Epoch 25: [0/37800] Loss: 0.017420\n",
            "Epoch 25: [6400/37800] Loss: 0.010107\n",
            "Epoch 25: [12800/37800] Loss: 0.013220\n",
            "Epoch 25: [19200/37800] Loss: 0.028119\n",
            "Epoch 25: [25600/37800] Loss: 0.000072\n",
            "Epoch 25: [32000/37800] Loss: 0.005022\n",
            "Test result on epoch 25: Avg loss is 0.000041, Accuracy: 99.428574% \n",
            "Epoch 26: [0/37800] Loss: 0.008474\n",
            "Epoch 26: [6400/37800] Loss: 0.000405\n",
            "Epoch 26: [12800/37800] Loss: 0.049714\n",
            "Epoch 26: [19200/37800] Loss: 0.001242\n",
            "Epoch 26: [25600/37800] Loss: 0.006985\n",
            "Epoch 26: [32000/37800] Loss: 0.026911\n",
            "Test result on epoch 26: Avg loss is 0.000050, Accuracy: 99.333336% \n",
            "Epoch 27: [0/37800] Loss: 0.001880\n",
            "Epoch 27: [6400/37800] Loss: 0.000590\n",
            "Epoch 27: [12800/37800] Loss: 0.006655\n",
            "Epoch 27: [19200/37800] Loss: 0.001432\n",
            "Epoch 27: [25600/37800] Loss: 0.000915\n",
            "Epoch 27: [32000/37800] Loss: 0.000636\n",
            "Test result on epoch 27: Avg loss is 0.000033, Accuracy: 99.404755% \n",
            "Epoch 28: [0/37800] Loss: 0.003015\n",
            "Epoch 28: [6400/37800] Loss: 0.002895\n",
            "Epoch 28: [12800/37800] Loss: 0.008202\n",
            "Epoch 28: [19200/37800] Loss: 0.019258\n",
            "Epoch 28: [25600/37800] Loss: 0.017573\n",
            "Epoch 28: [32000/37800] Loss: 0.000116\n",
            "Test result on epoch 28: Avg loss is 0.000038, Accuracy: 99.261902% \n",
            "Epoch 29: [0/37800] Loss: 0.010120\n",
            "Epoch 29: [6400/37800] Loss: 0.010516\n",
            "Epoch 29: [12800/37800] Loss: 0.064905\n",
            "Epoch 29: [19200/37800] Loss: 0.000781\n",
            "Epoch 29: [25600/37800] Loss: 0.003102\n",
            "Epoch 29: [32000/37800] Loss: 0.000966\n",
            "Test result on epoch 29: Avg loss is 0.000039, Accuracy: 99.119049% \n",
            "Epoch 30: [0/37800] Loss: 0.000458\n",
            "Epoch 30: [6400/37800] Loss: 0.000752\n",
            "Epoch 30: [12800/37800] Loss: 0.012354\n",
            "Epoch 30: [19200/37800] Loss: 0.000812\n",
            "Epoch 30: [25600/37800] Loss: 0.000257\n",
            "Epoch 30: [32000/37800] Loss: 0.002533\n",
            "Test result on epoch 30: Avg loss is 0.000033, Accuracy: 99.476189% \n"
          ]
        }
      ]
    },
    {
      "cell_type": "markdown",
      "source": [
        "## Visualization Result"
      ],
      "metadata": {
        "id": "jryCGn3a-s10"
      }
    },
    {
      "cell_type": "code",
      "source": [
        "# Create graph object\n",
        "fig = go.Figure()\n",
        "\n",
        "label_name = [\"Loss\", \"Accuracy\"]\n",
        "colors = [\"rgb(67, 67, 67)\", \"rgb(49, 130, 189)\"]\n",
        "line_size = [2, 2]\n",
        "mode_size = [8, 8]\n",
        "\n",
        "# X is number of epoch, y is loss and accuracy\n",
        "x_data = np.vstack((np.arange(1, max_epoch+1),)*2)\n",
        "y_data = np.array([test_losses, acc_list])\n",
        "\n",
        "# Adding line\n",
        "for i in range(0, 2):\n",
        "    fig.add_trace(go.Scatter(\n",
        "        x=x_data[i],\n",
        "        y=y_data[i],\n",
        "        mode=\"lines\",\n",
        "        name=label_name[i],\n",
        "        line=dict(color=colors[i], width=line_size[i]),\n",
        "        connectgaps=True\n",
        "    ))\n",
        "    \n",
        "    fig.add_trace(go.Scatter(\n",
        "        x=[x_data[i][0], x_data[i][-1]],\n",
        "        y=[y_data[i][0], y_data[i][-1]],\n",
        "        mode=\"markers\",\n",
        "        marker=dict(color=colors[i], size=mode_size[i])\n",
        "    ))\n",
        "\n",
        "fig.update_layout(\n",
        "    xaxis=dict(\n",
        "        showline=True,\n",
        "        showgrid=False,\n",
        "        showticklabels=True,\n",
        "        linecolor='rgb(204, 204, 204)',\n",
        "        linewidth=2,\n",
        "        ticks='outside',\n",
        "        tickfont=dict(\n",
        "            family='Arial',\n",
        "            size=12,\n",
        "            color='rgb(82, 82, 82)',\n",
        "        ),\n",
        "    ),\n",
        "    yaxis=dict(\n",
        "        showgrid=False,\n",
        "        zeroline=False,\n",
        "        showline=False,\n",
        "        showticklabels=False,\n",
        "    ),\n",
        "    autosize=False,\n",
        "    margin=dict(\n",
        "        autoexpand=False,\n",
        "        l=100,\n",
        "        r=150,\n",
        "        t=100,\n",
        "    ),\n",
        "    showlegend=True,\n",
        "    plot_bgcolor='white'\n",
        ")\n",
        "\n",
        "annotations = []\n",
        "\n",
        "# Adding labels\n",
        "for y_trace, label, color in zip(y_data, label_name, colors):\n",
        "    # Label left side\n",
        "    annotations.append(dict(\n",
        "        xref='paper', \n",
        "        x=0.05, \n",
        "        y=y_trace[0],\n",
        "        xanchor='right', \n",
        "        yanchor='middle',\n",
        "        text=label + ' {:.2f}'.format(y_trace[0]),\n",
        "        font=dict(family='Arial', size=16),\n",
        "        showarrow=False\n",
        "        ))\n",
        "    # Label right side\n",
        "    annotations.append(dict(\n",
        "        xref='paper', \n",
        "        x=0.95, \n",
        "        y=y_trace[max_epoch-1],\n",
        "        xanchor='left', \n",
        "        yanchor='middle',\n",
        "        text='{:.4f}%'.format(y_trace[max_epoch-1]),\n",
        "        font=dict(family='Arial', size=16),\n",
        "        showarrow=False\n",
        "        ))\n",
        "\n",
        "# Adding title\n",
        "annotations.append(dict(\n",
        "    xref='paper', \n",
        "    yref='paper', \n",
        "    x=0.0, \n",
        "    y=1.05,\n",
        "    xanchor='left', \n",
        "    yanchor='bottom',\n",
        "    text='Training Loss and Accuracy',\n",
        "    font=dict(family='Arial',\n",
        "    size=30,\n",
        "    color='rgb(37,37,37)'),\n",
        "    showarrow=False\n",
        "    ))\n",
        "\n",
        "# Source\n",
        "annotations.append(dict(\n",
        "    xref='paper', \n",
        "    yref='paper', \n",
        "    x=0.5, y=-0.1,\n",
        "    xanchor='center', \n",
        "    yanchor='top',\n",
        "    text='Epochs',\n",
        "    font=dict(family='Arial', size=12, color='rgb(150,150,150)'),\n",
        "    showarrow=False\n",
        "    ))\n",
        "\n",
        "fig.update_layout(annotations=annotations,height=600, width=1000)\n",
        "\n",
        "fig.show()"
      ],
      "metadata": {
        "id": "-oquM94n-w0j",
        "colab": {
          "base_uri": "https://localhost:8080/",
          "height": 617
        },
        "outputId": "18b55a57-80a8-4452-ab11-385129e12dad"
      },
      "execution_count": 17,
      "outputs": [
        {
          "output_type": "display_data",
          "data": {
            "text/html": [
              "<html>\n",
              "<head><meta charset=\"utf-8\" /></head>\n",
              "<body>\n",
              "    <div>            <script src=\"https://cdnjs.cloudflare.com/ajax/libs/mathjax/2.7.5/MathJax.js?config=TeX-AMS-MML_SVG\"></script><script type=\"text/javascript\">if (window.MathJax) {MathJax.Hub.Config({SVG: {font: \"STIX-Web\"}});}</script>                <script type=\"text/javascript\">window.PlotlyConfig = {MathJaxConfig: 'local'};</script>\n",
              "        <script src=\"https://cdn.plot.ly/plotly-2.8.3.min.js\"></script>                <div id=\"cae2d065-3766-40b2-93eb-7a6bb476fdf1\" class=\"plotly-graph-div\" style=\"height:600px; width:1000px;\"></div>            <script type=\"text/javascript\">                                    window.PLOTLYENV=window.PLOTLYENV || {};                                    if (document.getElementById(\"cae2d065-3766-40b2-93eb-7a6bb476fdf1\")) {                    Plotly.newPlot(                        \"cae2d065-3766-40b2-93eb-7a6bb476fdf1\",                        [{\"connectgaps\":true,\"line\":{\"color\":\"rgb(67, 67, 67)\",\"width\":2},\"mode\":\"lines\",\"name\":\"Loss\",\"x\":[1,2,3,4,5,6,7,8,9,10,11,12,13,14,15,16,17,18,19,20,21,22,23,24,25,26,27,28,29,30],\"y\":[5.772671617922329e-05,4.9841591556157384e-05,3.627975072179522e-05,4.3990601386342726e-05,3.631441898289181e-05,3.3260371447319073e-05,5.299694437001433e-05,3.9475429359646074e-05,2.7536042921599887e-05,3.413717883328597e-05,3.107446245849132e-05,3.557964361139706e-05,3.7232949176714534e-05,2.7666002112839904e-05,3.45089157954568e-05,2.7992092959937595e-05,2.757685458553689e-05,3.755552117668447e-05,3.2895462631824474e-05,3.599457309714385e-05,3.6759597825862116e-05,3.360794458006109e-05,4.2452731923688025e-05,3.600377589464188e-05,4.052056953133572e-05,4.9747379851483163e-05,3.306696634917032e-05,3.7585321725124406e-05,3.850527950340793e-05,3.2940120879738104e-05],\"type\":\"scatter\"},{\"marker\":{\"color\":\"rgb(67, 67, 67)\",\"size\":8},\"mode\":\"markers\",\"x\":[1,30],\"y\":[5.772671617922329e-05,3.2940120879738104e-05],\"type\":\"scatter\"},{\"connectgaps\":true,\"line\":{\"color\":\"rgb(49, 130, 189)\",\"width\":2},\"mode\":\"lines\",\"name\":\"Accuracy\",\"x\":[1,2,3,4,5,6,7,8,9,10,11,12,13,14,15,16,17,18,19,20,21,22,23,24,25,26,27,28,29,30],\"y\":[0.9861904382705688,0.9876190423965454,0.9900000095367432,0.9902380704879761,0.991190493106842,0.991428554058075,0.9885714054107666,0.9926190376281738,0.9923809170722961,0.9940475821495056,0.9938095211982727,0.9933333396911621,0.9938095211982727,0.9947618842124939,0.9933333396911621,0.9942857027053833,0.9938095211982727,0.993571400642395,0.9950000047683716,0.9928571581840515,0.993571400642395,0.9928571581840515,0.9921428561210632,0.993571400642395,0.9942857027053833,0.9933333396911621,0.9940475821495056,0.9926190376281738,0.991190493106842,0.9947618842124939],\"type\":\"scatter\"},{\"marker\":{\"color\":\"rgb(49, 130, 189)\",\"size\":8},\"mode\":\"markers\",\"x\":[1,30],\"y\":[0.9861904382705688,0.9947618842124939],\"type\":\"scatter\"}],                        {\"template\":{\"data\":{\"bar\":[{\"error_x\":{\"color\":\"#2a3f5f\"},\"error_y\":{\"color\":\"#2a3f5f\"},\"marker\":{\"line\":{\"color\":\"#E5ECF6\",\"width\":0.5},\"pattern\":{\"fillmode\":\"overlay\",\"size\":10,\"solidity\":0.2}},\"type\":\"bar\"}],\"barpolar\":[{\"marker\":{\"line\":{\"color\":\"#E5ECF6\",\"width\":0.5},\"pattern\":{\"fillmode\":\"overlay\",\"size\":10,\"solidity\":0.2}},\"type\":\"barpolar\"}],\"carpet\":[{\"aaxis\":{\"endlinecolor\":\"#2a3f5f\",\"gridcolor\":\"white\",\"linecolor\":\"white\",\"minorgridcolor\":\"white\",\"startlinecolor\":\"#2a3f5f\"},\"baxis\":{\"endlinecolor\":\"#2a3f5f\",\"gridcolor\":\"white\",\"linecolor\":\"white\",\"minorgridcolor\":\"white\",\"startlinecolor\":\"#2a3f5f\"},\"type\":\"carpet\"}],\"choropleth\":[{\"colorbar\":{\"outlinewidth\":0,\"ticks\":\"\"},\"type\":\"choropleth\"}],\"contour\":[{\"colorbar\":{\"outlinewidth\":0,\"ticks\":\"\"},\"colorscale\":[[0.0,\"#0d0887\"],[0.1111111111111111,\"#46039f\"],[0.2222222222222222,\"#7201a8\"],[0.3333333333333333,\"#9c179e\"],[0.4444444444444444,\"#bd3786\"],[0.5555555555555556,\"#d8576b\"],[0.6666666666666666,\"#ed7953\"],[0.7777777777777778,\"#fb9f3a\"],[0.8888888888888888,\"#fdca26\"],[1.0,\"#f0f921\"]],\"type\":\"contour\"}],\"contourcarpet\":[{\"colorbar\":{\"outlinewidth\":0,\"ticks\":\"\"},\"type\":\"contourcarpet\"}],\"heatmap\":[{\"colorbar\":{\"outlinewidth\":0,\"ticks\":\"\"},\"colorscale\":[[0.0,\"#0d0887\"],[0.1111111111111111,\"#46039f\"],[0.2222222222222222,\"#7201a8\"],[0.3333333333333333,\"#9c179e\"],[0.4444444444444444,\"#bd3786\"],[0.5555555555555556,\"#d8576b\"],[0.6666666666666666,\"#ed7953\"],[0.7777777777777778,\"#fb9f3a\"],[0.8888888888888888,\"#fdca26\"],[1.0,\"#f0f921\"]],\"type\":\"heatmap\"}],\"heatmapgl\":[{\"colorbar\":{\"outlinewidth\":0,\"ticks\":\"\"},\"colorscale\":[[0.0,\"#0d0887\"],[0.1111111111111111,\"#46039f\"],[0.2222222222222222,\"#7201a8\"],[0.3333333333333333,\"#9c179e\"],[0.4444444444444444,\"#bd3786\"],[0.5555555555555556,\"#d8576b\"],[0.6666666666666666,\"#ed7953\"],[0.7777777777777778,\"#fb9f3a\"],[0.8888888888888888,\"#fdca26\"],[1.0,\"#f0f921\"]],\"type\":\"heatmapgl\"}],\"histogram\":[{\"marker\":{\"pattern\":{\"fillmode\":\"overlay\",\"size\":10,\"solidity\":0.2}},\"type\":\"histogram\"}],\"histogram2d\":[{\"colorbar\":{\"outlinewidth\":0,\"ticks\":\"\"},\"colorscale\":[[0.0,\"#0d0887\"],[0.1111111111111111,\"#46039f\"],[0.2222222222222222,\"#7201a8\"],[0.3333333333333333,\"#9c179e\"],[0.4444444444444444,\"#bd3786\"],[0.5555555555555556,\"#d8576b\"],[0.6666666666666666,\"#ed7953\"],[0.7777777777777778,\"#fb9f3a\"],[0.8888888888888888,\"#fdca26\"],[1.0,\"#f0f921\"]],\"type\":\"histogram2d\"}],\"histogram2dcontour\":[{\"colorbar\":{\"outlinewidth\":0,\"ticks\":\"\"},\"colorscale\":[[0.0,\"#0d0887\"],[0.1111111111111111,\"#46039f\"],[0.2222222222222222,\"#7201a8\"],[0.3333333333333333,\"#9c179e\"],[0.4444444444444444,\"#bd3786\"],[0.5555555555555556,\"#d8576b\"],[0.6666666666666666,\"#ed7953\"],[0.7777777777777778,\"#fb9f3a\"],[0.8888888888888888,\"#fdca26\"],[1.0,\"#f0f921\"]],\"type\":\"histogram2dcontour\"}],\"mesh3d\":[{\"colorbar\":{\"outlinewidth\":0,\"ticks\":\"\"},\"type\":\"mesh3d\"}],\"parcoords\":[{\"line\":{\"colorbar\":{\"outlinewidth\":0,\"ticks\":\"\"}},\"type\":\"parcoords\"}],\"pie\":[{\"automargin\":true,\"type\":\"pie\"}],\"scatter\":[{\"marker\":{\"colorbar\":{\"outlinewidth\":0,\"ticks\":\"\"}},\"type\":\"scatter\"}],\"scatter3d\":[{\"line\":{\"colorbar\":{\"outlinewidth\":0,\"ticks\":\"\"}},\"marker\":{\"colorbar\":{\"outlinewidth\":0,\"ticks\":\"\"}},\"type\":\"scatter3d\"}],\"scattercarpet\":[{\"marker\":{\"colorbar\":{\"outlinewidth\":0,\"ticks\":\"\"}},\"type\":\"scattercarpet\"}],\"scattergeo\":[{\"marker\":{\"colorbar\":{\"outlinewidth\":0,\"ticks\":\"\"}},\"type\":\"scattergeo\"}],\"scattergl\":[{\"marker\":{\"colorbar\":{\"outlinewidth\":0,\"ticks\":\"\"}},\"type\":\"scattergl\"}],\"scattermapbox\":[{\"marker\":{\"colorbar\":{\"outlinewidth\":0,\"ticks\":\"\"}},\"type\":\"scattermapbox\"}],\"scatterpolar\":[{\"marker\":{\"colorbar\":{\"outlinewidth\":0,\"ticks\":\"\"}},\"type\":\"scatterpolar\"}],\"scatterpolargl\":[{\"marker\":{\"colorbar\":{\"outlinewidth\":0,\"ticks\":\"\"}},\"type\":\"scatterpolargl\"}],\"scatterternary\":[{\"marker\":{\"colorbar\":{\"outlinewidth\":0,\"ticks\":\"\"}},\"type\":\"scatterternary\"}],\"surface\":[{\"colorbar\":{\"outlinewidth\":0,\"ticks\":\"\"},\"colorscale\":[[0.0,\"#0d0887\"],[0.1111111111111111,\"#46039f\"],[0.2222222222222222,\"#7201a8\"],[0.3333333333333333,\"#9c179e\"],[0.4444444444444444,\"#bd3786\"],[0.5555555555555556,\"#d8576b\"],[0.6666666666666666,\"#ed7953\"],[0.7777777777777778,\"#fb9f3a\"],[0.8888888888888888,\"#fdca26\"],[1.0,\"#f0f921\"]],\"type\":\"surface\"}],\"table\":[{\"cells\":{\"fill\":{\"color\":\"#EBF0F8\"},\"line\":{\"color\":\"white\"}},\"header\":{\"fill\":{\"color\":\"#C8D4E3\"},\"line\":{\"color\":\"white\"}},\"type\":\"table\"}]},\"layout\":{\"annotationdefaults\":{\"arrowcolor\":\"#2a3f5f\",\"arrowhead\":0,\"arrowwidth\":1},\"autotypenumbers\":\"strict\",\"coloraxis\":{\"colorbar\":{\"outlinewidth\":0,\"ticks\":\"\"}},\"colorscale\":{\"diverging\":[[0,\"#8e0152\"],[0.1,\"#c51b7d\"],[0.2,\"#de77ae\"],[0.3,\"#f1b6da\"],[0.4,\"#fde0ef\"],[0.5,\"#f7f7f7\"],[0.6,\"#e6f5d0\"],[0.7,\"#b8e186\"],[0.8,\"#7fbc41\"],[0.9,\"#4d9221\"],[1,\"#276419\"]],\"sequential\":[[0.0,\"#0d0887\"],[0.1111111111111111,\"#46039f\"],[0.2222222222222222,\"#7201a8\"],[0.3333333333333333,\"#9c179e\"],[0.4444444444444444,\"#bd3786\"],[0.5555555555555556,\"#d8576b\"],[0.6666666666666666,\"#ed7953\"],[0.7777777777777778,\"#fb9f3a\"],[0.8888888888888888,\"#fdca26\"],[1.0,\"#f0f921\"]],\"sequentialminus\":[[0.0,\"#0d0887\"],[0.1111111111111111,\"#46039f\"],[0.2222222222222222,\"#7201a8\"],[0.3333333333333333,\"#9c179e\"],[0.4444444444444444,\"#bd3786\"],[0.5555555555555556,\"#d8576b\"],[0.6666666666666666,\"#ed7953\"],[0.7777777777777778,\"#fb9f3a\"],[0.8888888888888888,\"#fdca26\"],[1.0,\"#f0f921\"]]},\"colorway\":[\"#636efa\",\"#EF553B\",\"#00cc96\",\"#ab63fa\",\"#FFA15A\",\"#19d3f3\",\"#FF6692\",\"#B6E880\",\"#FF97FF\",\"#FECB52\"],\"font\":{\"color\":\"#2a3f5f\"},\"geo\":{\"bgcolor\":\"white\",\"lakecolor\":\"white\",\"landcolor\":\"#E5ECF6\",\"showlakes\":true,\"showland\":true,\"subunitcolor\":\"white\"},\"hoverlabel\":{\"align\":\"left\"},\"hovermode\":\"closest\",\"mapbox\":{\"style\":\"light\"},\"paper_bgcolor\":\"white\",\"plot_bgcolor\":\"#E5ECF6\",\"polar\":{\"angularaxis\":{\"gridcolor\":\"white\",\"linecolor\":\"white\",\"ticks\":\"\"},\"bgcolor\":\"#E5ECF6\",\"radialaxis\":{\"gridcolor\":\"white\",\"linecolor\":\"white\",\"ticks\":\"\"}},\"scene\":{\"xaxis\":{\"backgroundcolor\":\"#E5ECF6\",\"gridcolor\":\"white\",\"gridwidth\":2,\"linecolor\":\"white\",\"showbackground\":true,\"ticks\":\"\",\"zerolinecolor\":\"white\"},\"yaxis\":{\"backgroundcolor\":\"#E5ECF6\",\"gridcolor\":\"white\",\"gridwidth\":2,\"linecolor\":\"white\",\"showbackground\":true,\"ticks\":\"\",\"zerolinecolor\":\"white\"},\"zaxis\":{\"backgroundcolor\":\"#E5ECF6\",\"gridcolor\":\"white\",\"gridwidth\":2,\"linecolor\":\"white\",\"showbackground\":true,\"ticks\":\"\",\"zerolinecolor\":\"white\"}},\"shapedefaults\":{\"line\":{\"color\":\"#2a3f5f\"}},\"ternary\":{\"aaxis\":{\"gridcolor\":\"white\",\"linecolor\":\"white\",\"ticks\":\"\"},\"baxis\":{\"gridcolor\":\"white\",\"linecolor\":\"white\",\"ticks\":\"\"},\"bgcolor\":\"#E5ECF6\",\"caxis\":{\"gridcolor\":\"white\",\"linecolor\":\"white\",\"ticks\":\"\"}},\"title\":{\"x\":0.05},\"xaxis\":{\"automargin\":true,\"gridcolor\":\"white\",\"linecolor\":\"white\",\"ticks\":\"\",\"title\":{\"standoff\":15},\"zerolinecolor\":\"white\",\"zerolinewidth\":2},\"yaxis\":{\"automargin\":true,\"gridcolor\":\"white\",\"linecolor\":\"white\",\"ticks\":\"\",\"title\":{\"standoff\":15},\"zerolinecolor\":\"white\",\"zerolinewidth\":2}}},\"xaxis\":{\"tickfont\":{\"family\":\"Arial\",\"size\":12,\"color\":\"rgb(82, 82, 82)\"},\"showline\":true,\"showgrid\":false,\"showticklabels\":true,\"linecolor\":\"rgb(204, 204, 204)\",\"linewidth\":2,\"ticks\":\"outside\"},\"yaxis\":{\"showgrid\":false,\"zeroline\":false,\"showline\":false,\"showticklabels\":false},\"margin\":{\"autoexpand\":false,\"l\":100,\"r\":150,\"t\":100},\"autosize\":false,\"showlegend\":true,\"plot_bgcolor\":\"white\",\"annotations\":[{\"font\":{\"family\":\"Arial\",\"size\":16},\"showarrow\":false,\"text\":\"Loss 0.00\",\"x\":0.05,\"xanchor\":\"right\",\"xref\":\"paper\",\"y\":5.772671617922329e-05,\"yanchor\":\"middle\"},{\"font\":{\"family\":\"Arial\",\"size\":16},\"showarrow\":false,\"text\":\"0.0000%\",\"x\":0.95,\"xanchor\":\"left\",\"xref\":\"paper\",\"y\":3.2940120879738104e-05,\"yanchor\":\"middle\"},{\"font\":{\"family\":\"Arial\",\"size\":16},\"showarrow\":false,\"text\":\"Accuracy 0.99\",\"x\":0.05,\"xanchor\":\"right\",\"xref\":\"paper\",\"y\":0.9861904382705688,\"yanchor\":\"middle\"},{\"font\":{\"family\":\"Arial\",\"size\":16},\"showarrow\":false,\"text\":\"0.9948%\",\"x\":0.95,\"xanchor\":\"left\",\"xref\":\"paper\",\"y\":0.9947618842124939,\"yanchor\":\"middle\"},{\"font\":{\"color\":\"rgb(37,37,37)\",\"family\":\"Arial\",\"size\":30},\"showarrow\":false,\"text\":\"Training Loss and Accuracy\",\"x\":0.0,\"xanchor\":\"left\",\"xref\":\"paper\",\"y\":1.05,\"yanchor\":\"bottom\",\"yref\":\"paper\"},{\"font\":{\"color\":\"rgb(150,150,150)\",\"family\":\"Arial\",\"size\":12},\"showarrow\":false,\"text\":\"Epochs\",\"x\":0.5,\"xanchor\":\"center\",\"xref\":\"paper\",\"y\":-0.1,\"yanchor\":\"top\",\"yref\":\"paper\"}],\"height\":600,\"width\":1000},                        {\"responsive\": true}                    ).then(function(){\n",
              "                            \n",
              "var gd = document.getElementById('cae2d065-3766-40b2-93eb-7a6bb476fdf1');\n",
              "var x = new MutationObserver(function (mutations, observer) {{\n",
              "        var display = window.getComputedStyle(gd).display;\n",
              "        if (!display || display === 'none') {{\n",
              "            console.log([gd, 'removed!']);\n",
              "            Plotly.purge(gd);\n",
              "            observer.disconnect();\n",
              "        }}\n",
              "}});\n",
              "\n",
              "// Listen for the removal of the full notebook cells\n",
              "var notebookContainer = gd.closest('#notebook-container');\n",
              "if (notebookContainer) {{\n",
              "    x.observe(notebookContainer, {childList: true});\n",
              "}}\n",
              "\n",
              "// Listen for the clearing of the current output cell\n",
              "var outputEl = gd.closest('.output');\n",
              "if (outputEl) {{\n",
              "    x.observe(outputEl, {childList: true});\n",
              "}}\n",
              "\n",
              "                        })                };                            </script>        </div>\n",
              "</body>\n",
              "</html>"
            ]
          },
          "metadata": {}
        }
      ]
    }
  ]
}